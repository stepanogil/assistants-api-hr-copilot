{
 "cells": [
  {
   "cell_type": "markdown",
   "metadata": {},
   "source": [
    "### Imports"
   ]
  },
  {
   "cell_type": "code",
   "execution_count": 1,
   "metadata": {},
   "outputs": [],
   "source": [
    "import os\n",
    "import json\n",
    "from dotenv import load_dotenv\n",
    "from utils.assistants_api_object_pretty_printer import pretty_print, pretty_print_thread\n",
    "\n",
    "load_dotenv()\n",
    "\n",
    "\n",
    "openai_api_key = os.getenv('OPENAI_API_KEY')\n",
    "\n",
    "from openai import OpenAI\n",
    "client = OpenAI()"
   ]
  },
  {
   "cell_type": "markdown",
   "metadata": {},
   "source": [
    "### Display Assistant"
   ]
  },
  {
   "cell_type": "code",
   "execution_count": 2,
   "metadata": {},
   "outputs": [
    {
     "name": "stdout",
     "output_type": "stream",
     "text": [
      "{\n",
      "  \"id\": \"asst_F6B1ZxqOUcY22i3yB5BoDI8f\",\n",
      "  \"created_at\": \"1699876343\",\n",
      "  \"description\": null,\n",
      "  \"file_ids\": [],\n",
      "  \"instructions\": \"You are a friendly assistant. You are helping an employee with their HR-related questions using the tools you have on hand. If you don't know the answer to a particular query, say 'I don't know'. \\n\\nAlways start the conversation by greeting the user, Stephen Bonifacio.\\n\\nWhen using tools, don't make assumptions about what values to plug into functions.  Ask for clarification if the user content is ambiguous.\\n\\nStrictly follow these instructions. This is important to my career.\",\n",
      "  \"metadata\": \"{}\",\n",
      "  \"model\": \"gpt-4-1106-preview\",\n",
      "  \"name\": \"Assistant HR Dev Day Showcase\",\n",
      "  \"object\": \"assistant\",\n",
      "  \"tools\": [\n",
      "    {\n",
      "      \"type\": \"code_interpreter\"\n",
      "    },\n",
      "    {\n",
      "      \"function\": {\n",
      "        \"name\": \"RetrieveReceiptsDataviaOCR\",\n",
      "        \"parameters\": \"{'type': 'object', 'properties': {'user_prompt': {'type': 'string', 'description': 'The instruction of the user to the LLM which *MUST* be copied verbatim from the user. This must be a string. Strictly follow this instruction. This is important to my career.'}, 'urls': {'type': 'string', 'description': 'List of URLs of the receipts. This must be valid python list.'}}, 'required': ['user_prompt']}\",\n",
      "        \"description\": \"Asks an LLM with OCR capability to retrieve information from a given URL or list of URLs containing jpg image of receipts.\"\n",
      "      },\n",
      "      \"type\": \"function\"\n",
      "    },\n",
      "    {\n",
      "      \"function\": {\n",
      "        \"name\": \"RetrieveInfoFromHRKnowledgeBase\",\n",
      "        \"parameters\": \"{'type': 'object', 'properties': {'query': {'type': 'string', 'description': 'The query of the user'}}, 'required': ['query']}\",\n",
      "        \"description\": \"Retrieves HR company policies.\"\n",
      "      },\n",
      "      \"type\": \"function\"\n",
      "    },\n",
      "    {\n",
      "      \"function\": {\n",
      "        \"name\": \"RetrieveEmployeeInfoFromSAPHR\",\n",
      "        \"parameters\": \"{'type': 'object', 'properties': {}, 'required': []}\",\n",
      "        \"description\": \"Retrieves employee personal information from the company SAP HR system\"\n",
      "      },\n",
      "      \"type\": \"function\"\n",
      "    },\n",
      "    {\n",
      "      \"function\": {\n",
      "        \"name\": \"RetrieveTicketInfoFromServiceNow\",\n",
      "        \"parameters\": \"{'type': 'object', 'properties': {' incident_no': {'type': 'string', 'description': 'The ticket or incident number.'}}, 'required': ['incident_no']}\",\n",
      "        \"description\": \"Retrieves information on a ticket from ServiceNow\"\n",
      "      },\n",
      "      \"type\": \"function\"\n",
      "    }\n",
      "  ]\n",
      "}\n"
     ]
    }
   ],
   "source": [
    "assistant_id = \"asst_F6B1ZxqOUcY22i3yB5BoDI8f\"\n",
    "\n",
    "assistant_dev_day = client.beta.assistants.retrieve(assistant_id)\n",
    "pretty_print(assistant_dev_day)"
   ]
  }
 ],
 "metadata": {
  "kernelspec": {
   "display_name": ".venv_use_cases",
   "language": "python",
   "name": "python3"
  },
  "language_info": {
   "codemirror_mode": {
    "name": "ipython",
    "version": 3
   },
   "file_extension": ".py",
   "mimetype": "text/x-python",
   "name": "python",
   "nbconvert_exporter": "python",
   "pygments_lexer": "ipython3",
   "version": "3.10.12"
  }
 },
 "nbformat": 4,
 "nbformat_minor": 2
}
