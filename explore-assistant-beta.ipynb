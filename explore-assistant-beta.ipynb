{
 "cells": [
  {
   "cell_type": "markdown",
   "metadata": {},
   "source": [
    "# Overview\n",
    "\n",
    "### 3 main objects:\n",
    "\n",
    "1. Assistant - this is the LLM that has access to 'tools'. \n",
    "2. Thread - This is the the 'chat window' where the user/assistant carry out their conversation through back and forth 'messages'. This reminds me of dicussion forums of old - where you can create 'threads' to start a discussion. \n",
    "3. Messages - the 'message' of the user or assistant added to the thread. The assistant 'message/s' are only generated during 'Runs'.\n",
    "\n",
    "### Runs\n",
    "\n",
    "After creating the assistant, thread and 'initial' user message e.g. 'Hello!', you create a 'Run'.\n",
    "\n",
    "During Runs, the Assistant evaluates all the existing 'messages' in the thread and adds a 'message' to the thread accordingly e.g. assistant message: 'Hi, how can I assist you today?'\n",
    "\n",
    "Part of the Assistants job is to determine if a tool is required to be used given the existing 'messages' in the 'thread'. The above user message ('Hello!'), does not require a tool, for example. If the next user message is 'Hows the weather today in Manila?', the next Run should have Assistant use the 'get_weather' tool.\n",
    "\n",
    "Each user message and run is created in succession to maintain the ongoing conversation using the following:\n",
    "\n",
    "\n",
    "- client.beta.threads.messages.create() - function/endpoint for creating the User Messages\n",
    "\n",
    "- client.beta.threads.runs.create() - function/endpoint for creating Runs\n",
    "\n",
    "\n",
    "\n",
    "\n",
    "\n"
   ]
  },
  {
   "cell_type": "markdown",
   "metadata": {},
   "source": [
    "# Scenarios Covered\n",
    "\n",
    "1. A user message does not require the Assistant to use a 'tool'.\n",
    "2. A user message requires the Assistant to use a 'tool'.\n",
    "3. A user message requires the Assistant to use multiple 'tools'."
   ]
  },
  {
   "cell_type": "markdown",
   "metadata": {},
   "source": [
    "### Imports"
   ]
  },
  {
   "cell_type": "code",
   "execution_count": 1,
   "metadata": {},
   "outputs": [],
   "source": [
    "import os\n",
    "import json\n",
    "from dotenv import load_dotenv\n",
    "from utils.assistants_api_object_pretty_printer import pretty_print, pretty_print_thread\n",
    "\n",
    "load_dotenv()\n",
    "\n",
    "\n",
    "openai_api_key = os.getenv('OPENAI_API_KEY')\n",
    "\n",
    "from openai import OpenAI\n",
    "client = OpenAI()"
   ]
  },
  {
   "cell_type": "markdown",
   "metadata": {},
   "source": [
    "\n",
    "## Step 1: Create Assistant\n",
    "\n",
    "Assistants should be created once and referenced all throught via the assistant.id\n",
    "\n",
    "This is can also be created in the playground UI: https://platform.openai.com/playground\n"
   ]
  },
  {
   "cell_type": "code",
   "execution_count": 4,
   "metadata": {},
   "outputs": [
    {
     "name": "stdout",
     "output_type": "stream",
     "text": [
      "{\n",
      "  \"id\": \"asst_GM37mvTmfH0zWAWe4BEuLtGn\",\n",
      "  \"created_at\": \"1702014088\",\n",
      "  \"description\": null,\n",
      "  \"file_ids\": [],\n",
      "  \"instructions\": \"You are a friendly assistant.\",\n",
      "  \"metadata\": \"{}\",\n",
      "  \"model\": \"gpt-3.5-turbo-1106\",\n",
      "  \"name\": \"Test Assistant\",\n",
      "  \"object\": \"assistant\",\n",
      "  \"tools\": [\n",
      "    {\n",
      "      \"function\": {\n",
      "        \"name\": \"getCurrentWeather\",\n",
      "        \"parameters\": \"{'type': 'object', 'properties': {'location': {'type': 'string', 'description': 'The city and state e.g. San Francisco, CA'}, 'unit': {'type': 'string', 'enum': ['c', 'f']}}, 'required': ['location']}\",\n",
      "        \"description\": \"Get the weather in location\"\n",
      "      },\n",
      "      \"type\": \"function\"\n",
      "    },\n",
      "    {\n",
      "      \"function\": {\n",
      "        \"name\": \"getCurrentTraffic\",\n",
      "        \"parameters\": \"{'type': 'object', 'properties': {'location': {'type': 'string', 'description': 'The city and state e.g. San Francisco, CA'}}, 'required': ['location']}\",\n",
      "        \"description\": \"Get the current traffic in location\"\n",
      "      },\n",
      "      \"type\": \"function\"\n",
      "    }\n",
      "  ]\n",
      "}\n"
     ]
    }
   ],
   "source": [
    "from openai import OpenAI\n",
    "client = OpenAI()\n",
    "\n",
    "assistant = client.beta.assistants.create(\n",
    "    instructions=\"You are a friendly assistant.\",\n",
    "    name=\"Test Assistant\",    \n",
    "    model=\"gpt-3.5-turbo-1106\",    \n",
    "    tools = [\n",
    "    {\n",
    "            \"type\": \"function\",\n",
    "            \"function\": {\n",
    "                \"name\": \"getCurrentWeather\",\n",
    "                \"description\": \"Get the weather in location\",\n",
    "                \"parameters\": {\n",
    "                    \"type\": \"object\",\n",
    "                    \"properties\": {\n",
    "                        \"location\": {\n",
    "                            \"type\": \"string\", \n",
    "                            \"description\": \"The city and state e.g. San Francisco, CA\"\n",
    "                        },\n",
    "                        \"unit\": {\n",
    "                            \"type\": \"string\", \n",
    "                            \"enum\": [\"c\", \"f\"]\n",
    "                        }\n",
    "                    },\n",
    "                    \"required\": [\"location\"]\n",
    "                }\n",
    "            },\n",
    "        },\n",
    "    {\n",
    "            \"type\": \"function\",\n",
    "            \"function\": {\n",
    "                \"name\": \"getCurrentTraffic\",\n",
    "                \"description\": \"Get the current traffic in location\",\n",
    "                \"parameters\": {\n",
    "                    \"type\": \"object\",\n",
    "                    \"properties\": {\n",
    "                        \"location\": {\n",
    "                            \"type\": \"string\", \n",
    "                            \"description\": \"The city and state e.g. San Francisco, CA\"\n",
    "                        }                        \n",
    "                    },\n",
    "                    \"required\": [\"location\"]\n",
    "                }\n",
    "            },\n",
    "        }\n",
    "  ]\n",
    ")\n",
    "pretty_print(assistant)"
   ]
  },
  {
   "cell_type": "markdown",
   "metadata": {},
   "source": [
    "### Utils: View Details of Existing Assistant"
   ]
  },
  {
   "cell_type": "code",
   "execution_count": 2,
   "metadata": {},
   "outputs": [
    {
     "name": "stdout",
     "output_type": "stream",
     "text": [
      "{\n",
      "  \"id\": \"asst_GM37mvTmfH0zWAWe4BEuLtGn\",\n",
      "  \"created_at\": \"1702014088\",\n",
      "  \"description\": null,\n",
      "  \"file_ids\": [],\n",
      "  \"instructions\": \"You are a friendly assistant.\",\n",
      "  \"metadata\": \"{}\",\n",
      "  \"model\": \"gpt-3.5-turbo-1106\",\n",
      "  \"name\": \"Test Assistant\",\n",
      "  \"object\": \"assistant\",\n",
      "  \"tools\": [\n",
      "    {\n",
      "      \"function\": {\n",
      "        \"name\": \"getCurrentWeather\",\n",
      "        \"parameters\": \"{'type': 'object', 'properties': {'location': {'type': 'string', 'description': 'The city and state e.g. San Francisco, CA'}, 'unit': {'type': 'string', 'enum': ['c', 'f']}}, 'required': ['location']}\",\n",
      "        \"description\": \"Get the weather in location\"\n",
      "      },\n",
      "      \"type\": \"function\"\n",
      "    },\n",
      "    {\n",
      "      \"function\": {\n",
      "        \"name\": \"getCurrentTraffic\",\n",
      "        \"parameters\": \"{'type': 'object', 'properties': {'location': {'type': 'string', 'description': 'The city and state e.g. San Francisco, CA'}}, 'required': ['location']}\",\n",
      "        \"description\": \"Get the current traffic in location\"\n",
      "      },\n",
      "      \"type\": \"function\"\n",
      "    },\n",
      "    {\n",
      "      \"type\": \"code_interpreter\"\n",
      "    }\n",
      "  ]\n",
      "}\n"
     ]
    }
   ],
   "source": [
    "assistant= client.beta.assistants.retrieve(\"asst_GM37mvTmfH0zWAWe4BEuLtGn\")\n",
    "pretty_print(assistant)"
   ]
  },
  {
   "cell_type": "markdown",
   "metadata": {},
   "source": [
    "### Utils: Update assistant (for example if you want to add/remove tools)\n",
    "\n",
    "In this example, I added an additional 'tool' that can be used by the Assistant - the 'Code Interpreter'"
   ]
  },
  {
   "cell_type": "code",
   "execution_count": 3,
   "metadata": {},
   "outputs": [
    {
     "name": "stdout",
     "output_type": "stream",
     "text": [
      "{\n",
      "  \"id\": \"asst_GM37mvTmfH0zWAWe4BEuLtGn\",\n",
      "  \"created_at\": \"1702014088\",\n",
      "  \"description\": null,\n",
      "  \"file_ids\": [],\n",
      "  \"instructions\": \"You are a friendly assistant.\",\n",
      "  \"metadata\": \"{}\",\n",
      "  \"model\": \"gpt-3.5-turbo-1106\",\n",
      "  \"name\": \"Test Assistant\",\n",
      "  \"object\": \"assistant\",\n",
      "  \"tools\": [\n",
      "    {\n",
      "      \"function\": {\n",
      "        \"name\": \"getCurrentWeather\",\n",
      "        \"parameters\": \"{'type': 'object', 'properties': {'location': {'type': 'string', 'description': 'The city and state e.g. San Francisco, CA'}, 'unit': {'type': 'string', 'enum': ['c', 'f']}}, 'required': ['location']}\",\n",
      "        \"description\": \"Get the weather in location\"\n",
      "      },\n",
      "      \"type\": \"function\"\n",
      "    },\n",
      "    {\n",
      "      \"function\": {\n",
      "        \"name\": \"getCurrentTraffic\",\n",
      "        \"parameters\": \"{'type': 'object', 'properties': {'location': {'type': 'string', 'description': 'The city and state e.g. San Francisco, CA'}}, 'required': ['location']}\",\n",
      "        \"description\": \"Get the current traffic in location\"\n",
      "      },\n",
      "      \"type\": \"function\"\n",
      "    },\n",
      "    {\n",
      "      \"type\": \"code_interpreter\"\n",
      "    }\n",
      "  ]\n",
      "}\n"
     ]
    }
   ],
   "source": [
    "assistant = client.beta.assistants.update(\n",
    "    instructions=\"You are a friendly assistant.\",\n",
    "    name=\"Test Assistant\",\n",
    "    assistant_id = assistant.id,\n",
    "    model=\"gpt-3.5-turbo-1106\",    \n",
    "    tools = [\n",
    "    {\n",
    "            \"type\": \"function\",\n",
    "            \"function\": {\n",
    "                \"name\": \"getCurrentWeather\",\n",
    "                \"description\": \"Get the weather in location\",\n",
    "                \"parameters\": {\n",
    "                    \"type\": \"object\",\n",
    "                    \"properties\": {\n",
    "                        \"location\": {\n",
    "                            \"type\": \"string\", \n",
    "                            \"description\": \"The city and state e.g. San Francisco, CA\"\n",
    "                        },\n",
    "                        \"unit\": {\n",
    "                            \"type\": \"string\", \n",
    "                            \"enum\": [\"c\", \"f\"]\n",
    "                        }\n",
    "                    },\n",
    "                    \"required\": [\"location\"]\n",
    "                }\n",
    "            },\n",
    "        },\n",
    "    {\n",
    "            \"type\": \"function\",\n",
    "            \"function\": {\n",
    "                \"name\": \"getCurrentTraffic\",\n",
    "                \"description\": \"Get the current traffic in location\",\n",
    "                \"parameters\": {\n",
    "                    \"type\": \"object\",\n",
    "                    \"properties\": {\n",
    "                        \"location\": {\n",
    "                            \"type\": \"string\", \n",
    "                            \"description\": \"The city and state e.g. San Francisco, CA\"\n",
    "                        }                        \n",
    "                    },\n",
    "                    \"required\": [\"location\"]\n",
    "                }\n",
    "            },\n",
    "        },\n",
    "    {\n",
    "            \"type\": \"code_interpreter\",            \n",
    "        }\n",
    "  ]\n",
    ")\n",
    "pretty_print(assistant)\n"
   ]
  },
  {
   "cell_type": "markdown",
   "metadata": {},
   "source": [
    "# Step 2: Create Thread\n",
    "\n",
    "TIP: Threads can be assigned to different assistants (.e.g. if you want to evaluate different models, you can create the same exact assistant but one powered by GPT3.5, another by GPT4)"
   ]
  },
  {
   "cell_type": "code",
   "execution_count": 4,
   "metadata": {},
   "outputs": [
    {
     "name": "stdout",
     "output_type": "stream",
     "text": [
      "{\n",
      "  \"id\": \"thread_1nr34IXRHNQOipkQODjmrIUN\",\n",
      "  \"created_at\": \"1702018057\",\n",
      "  \"metadata\": \"{}\",\n",
      "  \"object\": \"thread\"\n",
      "}\n"
     ]
    }
   ],
   "source": [
    "thread = client.beta.threads.create()\n",
    "pretty_print(thread)"
   ]
  },
  {
   "cell_type": "markdown",
   "metadata": {},
   "source": [
    "# Scenario 1: A user message does not require the Assistant to use a 'tool'."
   ]
  },
  {
   "cell_type": "markdown",
   "metadata": {},
   "source": [
    "## Step 3: Create Message\n",
    "\n",
    "User message: 'Hi Assistant!'"
   ]
  },
  {
   "cell_type": "code",
   "execution_count": 5,
   "metadata": {},
   "outputs": [
    {
     "name": "stdout",
     "output_type": "stream",
     "text": [
      "{\n",
      "  \"id\": \"msg_yKl0nWEuokUUIBmkZyyYFfzp\",\n",
      "  \"assistant_id\": null,\n",
      "  \"content\": [\n",
      "    {\n",
      "      \"text\": {\n",
      "        \"annotations\": [],\n",
      "        \"value\": \"Hi Assistant!\"\n",
      "      },\n",
      "      \"type\": \"text\"\n",
      "    }\n",
      "  ],\n",
      "  \"created_at\": \"1702018060\",\n",
      "  \"file_ids\": [],\n",
      "  \"metadata\": \"{}\",\n",
      "  \"object\": \"thread.message\",\n",
      "  \"role\": \"user\",\n",
      "  \"run_id\": null,\n",
      "  \"thread_id\": \"thread_1nr34IXRHNQOipkQODjmrIUN\"\n",
      "}\n"
     ]
    }
   ],
   "source": [
    "message = client.beta.threads.messages.create(\n",
    "    thread_id=thread.id,\n",
    "    role=\"user\",\n",
    "    content=\"Hi Assistant!\"\n",
    ")\n",
    "pretty_print(message)"
   ]
  },
  {
   "cell_type": "markdown",
   "metadata": {},
   "source": [
    "### Utils: Display Existing Messages in Thread ID"
   ]
  },
  {
   "cell_type": "code",
   "execution_count": 6,
   "metadata": {},
   "outputs": [
    {
     "name": "stdout",
     "output_type": "stream",
     "text": [
      "{\n",
      "  \"id\": \"msg_yKl0nWEuokUUIBmkZyyYFfzp\",\n",
      "  \"assistant_id\": null,\n",
      "  \"content\": [\n",
      "    {\n",
      "      \"text\": {\n",
      "        \"annotations\": [],\n",
      "        \"value\": \"Hi Assistant!\"\n",
      "      },\n",
      "      \"type\": \"text\"\n",
      "    }\n",
      "  ],\n",
      "  \"created_at\": \"1702018060\",\n",
      "  \"file_ids\": [],\n",
      "  \"metadata\": \"{}\",\n",
      "  \"object\": \"thread.message\",\n",
      "  \"role\": \"user\",\n",
      "  \"run_id\": null,\n",
      "  \"thread_id\": \"thread_1nr34IXRHNQOipkQODjmrIUN\"\n",
      "}\n"
     ]
    }
   ],
   "source": [
    "thread_messages = client.beta.threads.messages.list(thread.id)\n",
    "\n",
    "for index in range(len(thread_messages.data)):\n",
    "    pretty_print(thread_messages.data[index])"
   ]
  },
  {
   "cell_type": "markdown",
   "metadata": {},
   "source": [
    "## Step 4: Create Run\n",
    "\n",
    "During Runs, the assistant evaluates the content of the thread and add message/s as necessary."
   ]
  },
  {
   "cell_type": "code",
   "execution_count": 7,
   "metadata": {},
   "outputs": [],
   "source": [
    "run = client.beta.threads.runs.create(\n",
    "  thread_id=thread.id,\n",
    "  assistant_id=assistant.id  \n",
    ")"
   ]
  },
  {
   "cell_type": "markdown",
   "metadata": {},
   "source": [
    "## Step 5: Wait for Run to finish then View the Thread\n",
    "\n",
    "The assistant should add a 'message' to the thread - \"Hello! How can I assist you today?\""
   ]
  },
  {
   "cell_type": "code",
   "execution_count": 8,
   "metadata": {},
   "outputs": [
    {
     "name": "stdout",
     "output_type": "stream",
     "text": [
      "{\n",
      "  \"id\": \"msg_xxHLiMEdSREOSUesvkRCiuFo\",\n",
      "  \"assistant_id\": \"asst_GM37mvTmfH0zWAWe4BEuLtGn\",\n",
      "  \"content\": [\n",
      "    {\n",
      "      \"text\": {\n",
      "        \"annotations\": [],\n",
      "        \"value\": \"Hello! How can I assist you today?\"\n",
      "      },\n",
      "      \"type\": \"text\"\n",
      "    }\n",
      "  ],\n",
      "  \"created_at\": \"1702018073\",\n",
      "  \"file_ids\": [],\n",
      "  \"metadata\": \"{}\",\n",
      "  \"object\": \"thread.message\",\n",
      "  \"role\": \"assistant\",\n",
      "  \"run_id\": \"run_Y0hFSlf96zIu1tIRXxupPXCY\",\n",
      "  \"thread_id\": \"thread_1nr34IXRHNQOipkQODjmrIUN\"\n",
      "}\n",
      "{\n",
      "  \"id\": \"msg_yKl0nWEuokUUIBmkZyyYFfzp\",\n",
      "  \"assistant_id\": null,\n",
      "  \"content\": [\n",
      "    {\n",
      "      \"text\": {\n",
      "        \"annotations\": [],\n",
      "        \"value\": \"Hi Assistant!\"\n",
      "      },\n",
      "      \"type\": \"text\"\n",
      "    }\n",
      "  ],\n",
      "  \"created_at\": \"1702018060\",\n",
      "  \"file_ids\": [],\n",
      "  \"metadata\": \"{}\",\n",
      "  \"object\": \"thread.message\",\n",
      "  \"role\": \"user\",\n",
      "  \"run_id\": null,\n",
      "  \"thread_id\": \"thread_1nr34IXRHNQOipkQODjmrIUN\"\n",
      "}\n"
     ]
    }
   ],
   "source": [
    "thread_messages = client.beta.threads.messages.list(thread.id)\n",
    "\n",
    "for index in range(len(thread_messages.data)):\n",
    "    pretty_print(thread_messages.data[index])"
   ]
  },
  {
   "cell_type": "markdown",
   "metadata": {},
   "source": [
    "# Scenario 2:  A user message requires the Assistant to use a 'tool'.\n",
    "\n",
    "## Step 6: Create Message\n",
    "\n",
    "User Message: 'How's the weather in Manila today?'"
   ]
  },
  {
   "cell_type": "code",
   "execution_count": 9,
   "metadata": {},
   "outputs": [
    {
     "name": "stdout",
     "output_type": "stream",
     "text": [
      "{\n",
      "  \"id\": \"msg_TnEeySsXrcgEVqZkQzCVDPC8\",\n",
      "  \"assistant_id\": null,\n",
      "  \"content\": [\n",
      "    {\n",
      "      \"text\": {\n",
      "        \"annotations\": [],\n",
      "        \"value\": \"How's the weather in Manila today?\"\n",
      "      },\n",
      "      \"type\": \"text\"\n",
      "    }\n",
      "  ],\n",
      "  \"created_at\": \"1702018090\",\n",
      "  \"file_ids\": [],\n",
      "  \"metadata\": \"{}\",\n",
      "  \"object\": \"thread.message\",\n",
      "  \"role\": \"user\",\n",
      "  \"run_id\": null,\n",
      "  \"thread_id\": \"thread_1nr34IXRHNQOipkQODjmrIUN\"\n",
      "}\n"
     ]
    }
   ],
   "source": [
    "message = client.beta.threads.messages.create(\n",
    "    thread_id=thread.id,\n",
    "    role=\"user\",\n",
    "    content=\"How's the weather in Manila today?\"\n",
    ")\n",
    "pretty_print(message)"
   ]
  },
  {
   "cell_type": "markdown",
   "metadata": {},
   "source": [
    "## Step 7: Create Run 2"
   ]
  },
  {
   "cell_type": "code",
   "execution_count": 10,
   "metadata": {},
   "outputs": [],
   "source": [
    "run = client.beta.threads.runs.create(\n",
    "  thread_id=thread.id,\n",
    "  assistant_id=assistant.id)"
   ]
  },
  {
   "cell_type": "markdown",
   "metadata": {},
   "source": [
    "For user messages that does not require 'tool' use, the Run status is set to 'completed' and 'assistant' message is added to the thread.\n",
    "\n",
    "For user messages that requires 'tool' use, an intermediate Run status called 'requires_action' is set.\n",
    "\n",
    "Note: Other Run status values can be: \n",
    "- queued \n",
    "- in_progress\n",
    "- requires_action\n",
    "- cancelling\n",
    "- cancelled \n",
    "- failed\n",
    "- completed\n",
    "- expired"
   ]
  },
  {
   "cell_type": "markdown",
   "metadata": {},
   "source": [
    "## Step 8: Wait for Run to finish then View status of Run\n",
    "\n",
    "Note the value of run.status = 'requires_action'.\n",
    "\n",
    "The run.required_action value also indicates that the assistant 'decided' to use the \"getCurrentWeather\" tool. \n",
    "\n",
    "It also identified the arguments ('Manila', 'celsius') that should be used with the tool/function to get the requested info (weather in Manila) by the user."
   ]
  },
  {
   "cell_type": "code",
   "execution_count": 11,
   "metadata": {},
   "outputs": [
    {
     "name": "stdout",
     "output_type": "stream",
     "text": [
      "{\n",
      "  \"id\": \"run_EtEZoN5CF0vkonwUFDvqEWob\",\n",
      "  \"assistant_id\": \"asst_GM37mvTmfH0zWAWe4BEuLtGn\",\n",
      "  \"cancelled_at\": null,\n",
      "  \"completed_at\": null,\n",
      "  \"created_at\": \"1702018104\",\n",
      "  \"expires_at\": \"1702018704\",\n",
      "  \"failed_at\": null,\n",
      "  \"file_ids\": [],\n",
      "  \"instructions\": \"You are a friendly assistant.\",\n",
      "  \"last_error\": null,\n",
      "  \"metadata\": \"{}\",\n",
      "  \"model\": \"gpt-3.5-turbo-1106\",\n",
      "  \"object\": \"thread.run\",\n",
      "  \"required_action\": {\n",
      "    \"submit_tool_outputs\": {\n",
      "      \"tool_calls\": [\n",
      "        {\n",
      "          \"id\": \"call_dpTcq4iks2jGcdvo42pCnoh0\",\n",
      "          \"function\": {\n",
      "            \"arguments\": \"{'location': 'Manila', 'unit': 'c'}\",\n",
      "            \"name\": \"getCurrentWeather\"\n",
      "          },\n",
      "          \"type\": \"function\"\n",
      "        }\n",
      "      ]\n",
      "    },\n",
      "    \"type\": \"submit_tool_outputs\"\n",
      "  },\n",
      "  \"started_at\": \"1702018104\",\n",
      "  \"status\": \"requires_action\",\n",
      "  \"thread_id\": \"thread_1nr34IXRHNQOipkQODjmrIUN\",\n",
      "  \"tools\": [\n",
      "    {\n",
      "      \"function\": {\n",
      "        \"name\": \"getCurrentWeather\",\n",
      "        \"parameters\": \"{'type': 'object', 'properties': {'location': {'type': 'string', 'description': 'The city and state e.g. San Francisco, CA'}, 'unit': {'type': 'string', 'enum': ['c', 'f']}}, 'required': ['location']}\",\n",
      "        \"description\": \"Get the weather in location\"\n",
      "      },\n",
      "      \"type\": \"function\"\n",
      "    },\n",
      "    {\n",
      "      \"function\": {\n",
      "        \"name\": \"getCurrentTraffic\",\n",
      "        \"parameters\": \"{'type': 'object', 'properties': {'location': {'type': 'string', 'description': 'The city and state e.g. San Francisco, CA'}}, 'required': ['location']}\",\n",
      "        \"description\": \"Get the current traffic in location\"\n",
      "      },\n",
      "      \"type\": \"function\"\n",
      "    },\n",
      "    {\n",
      "      \"type\": \"code_interpreter\"\n",
      "    }\n",
      "  ]\n",
      "}\n"
     ]
    }
   ],
   "source": [
    "import time\n",
    "\n",
    "def wait_on_run(run, thread):\n",
    "    while run.status == \"queued\" or run.status == \"in_progress\":\n",
    "        run = client.beta.threads.runs.retrieve(\n",
    "            thread_id=thread.id,\n",
    "            run_id=run.id,\n",
    "        )\n",
    "        time.sleep(0.5)\n",
    "    return run\n",
    "\n",
    "run = wait_on_run(run, thread)\n",
    "pretty_print(run)\n"
   ]
  },
  {
   "cell_type": "markdown",
   "metadata": {},
   "source": [
    "# If status = requires_action: \n",
    "\n",
    "This status means the assistant wanted to use a function call and has outputted the function name and arguments to use for the function."
   ]
  },
  {
   "cell_type": "markdown",
   "metadata": {},
   "source": [
    "### Initialize tool_call as var \n",
    "\n",
    "It's possible that it will have several index/page of tools to use based on the nature of the query\n",
    "\n",
    "This way, we can just iterate on this object by calling the index position\n"
   ]
  },
  {
   "cell_type": "code",
   "execution_count": 12,
   "metadata": {},
   "outputs": [
    {
     "name": "stdout",
     "output_type": "stream",
     "text": [
      "[\n",
      "  {\n",
      "    \"id\": \"call_dpTcq4iks2jGcdvo42pCnoh0\",\n",
      "    \"function\": {\n",
      "      \"arguments\": \"{'location': 'Manila', 'unit': 'c'}\",\n",
      "      \"name\": \"getCurrentWeather\"\n",
      "    },\n",
      "    \"type\": \"function\"\n",
      "  }\n",
      "]\n"
     ]
    }
   ],
   "source": [
    "tool_call = run.required_action.submit_tool_outputs.tool_calls\n",
    "pretty_print(tool_call)"
   ]
  },
  {
   "cell_type": "markdown",
   "metadata": {},
   "source": [
    "\n",
    "## Step 9: Update Run with Tool Output\n",
    "\n",
    "The 'getCurrentWeather' function should be executed ~elsewhere in your program~ using the args provided by the assistant.\n",
    "\n",
    "In this example, the output of getCurrentWeather(\"Manila\", \"celsius\") is '19C'.\n",
    "\n",
    "The run is updated with the output of the tool/s"
   ]
  },
  {
   "cell_type": "code",
   "execution_count": 13,
   "metadata": {},
   "outputs": [
    {
     "name": "stdout",
     "output_type": "stream",
     "text": [
      "{\n",
      "  \"id\": \"run_EtEZoN5CF0vkonwUFDvqEWob\",\n",
      "  \"assistant_id\": \"asst_GM37mvTmfH0zWAWe4BEuLtGn\",\n",
      "  \"cancelled_at\": null,\n",
      "  \"completed_at\": null,\n",
      "  \"created_at\": \"1702018104\",\n",
      "  \"expires_at\": \"1702018704\",\n",
      "  \"failed_at\": null,\n",
      "  \"file_ids\": [],\n",
      "  \"instructions\": \"You are a friendly assistant.\",\n",
      "  \"last_error\": null,\n",
      "  \"metadata\": \"{}\",\n",
      "  \"model\": \"gpt-3.5-turbo-1106\",\n",
      "  \"object\": \"thread.run\",\n",
      "  \"required_action\": null,\n",
      "  \"started_at\": \"1702018104\",\n",
      "  \"status\": \"queued\",\n",
      "  \"thread_id\": \"thread_1nr34IXRHNQOipkQODjmrIUN\",\n",
      "  \"tools\": [\n",
      "    {\n",
      "      \"function\": {\n",
      "        \"name\": \"getCurrentWeather\",\n",
      "        \"parameters\": \"{'type': 'object', 'properties': {'location': {'type': 'string', 'description': 'The city and state e.g. San Francisco, CA'}, 'unit': {'type': 'string', 'enum': ['c', 'f']}}, 'required': ['location']}\",\n",
      "        \"description\": \"Get the weather in location\"\n",
      "      },\n",
      "      \"type\": \"function\"\n",
      "    },\n",
      "    {\n",
      "      \"function\": {\n",
      "        \"name\": \"getCurrentTraffic\",\n",
      "        \"parameters\": \"{'type': 'object', 'properties': {'location': {'type': 'string', 'description': 'The city and state e.g. San Francisco, CA'}}, 'required': ['location']}\",\n",
      "        \"description\": \"Get the current traffic in location\"\n",
      "      },\n",
      "      \"type\": \"function\"\n",
      "    },\n",
      "    {\n",
      "      \"type\": \"code_interpreter\"\n",
      "    }\n",
      "  ]\n",
      "}\n"
     ]
    }
   ],
   "source": [
    "run = client.beta.threads.runs.submit_tool_outputs(\n",
    "  thread_id=thread.id,\n",
    "  run_id=run.id,\n",
    "  tool_outputs=[\n",
    "    {\n",
    "      \"tool_call_id\": tool_call[0].id,\n",
    "      \"output\": \"19C\"\n",
    "    }\n",
    "  ]\n",
    ")\n",
    "pretty_print(run)"
   ]
  },
  {
   "cell_type": "markdown",
   "metadata": {},
   "source": [
    "## Step 10: Wait for Run to finish then View the Thread\n",
    "\n",
    "The assistant should add the message after synthesing the output of the tool: \"The weather in Manila today is 19\\u00b0C.\""
   ]
  },
  {
   "cell_type": "code",
   "execution_count": 14,
   "metadata": {},
   "outputs": [
    {
     "name": "stdout",
     "output_type": "stream",
     "text": [
      "{\n",
      "  \"id\": \"msg_UIFj75kmx2ULBG0DLEu0ySCV\",\n",
      "  \"assistant_id\": \"asst_GM37mvTmfH0zWAWe4BEuLtGn\",\n",
      "  \"content\": [\n",
      "    {\n",
      "      \"text\": {\n",
      "        \"annotations\": [],\n",
      "        \"value\": \"The weather in Manila today is 19\\u00b0C.\"\n",
      "      },\n",
      "      \"type\": \"text\"\n",
      "    }\n",
      "  ],\n",
      "  \"created_at\": \"1702018122\",\n",
      "  \"file_ids\": [],\n",
      "  \"metadata\": \"{}\",\n",
      "  \"object\": \"thread.message\",\n",
      "  \"role\": \"assistant\",\n",
      "  \"run_id\": \"run_EtEZoN5CF0vkonwUFDvqEWob\",\n",
      "  \"thread_id\": \"thread_1nr34IXRHNQOipkQODjmrIUN\"\n",
      "}\n",
      "{\n",
      "  \"id\": \"msg_TnEeySsXrcgEVqZkQzCVDPC8\",\n",
      "  \"assistant_id\": null,\n",
      "  \"content\": [\n",
      "    {\n",
      "      \"text\": {\n",
      "        \"annotations\": [],\n",
      "        \"value\": \"How's the weather in Manila today?\"\n",
      "      },\n",
      "      \"type\": \"text\"\n",
      "    }\n",
      "  ],\n",
      "  \"created_at\": \"1702018090\",\n",
      "  \"file_ids\": [],\n",
      "  \"metadata\": \"{}\",\n",
      "  \"object\": \"thread.message\",\n",
      "  \"role\": \"user\",\n",
      "  \"run_id\": null,\n",
      "  \"thread_id\": \"thread_1nr34IXRHNQOipkQODjmrIUN\"\n",
      "}\n",
      "{\n",
      "  \"id\": \"msg_xxHLiMEdSREOSUesvkRCiuFo\",\n",
      "  \"assistant_id\": \"asst_GM37mvTmfH0zWAWe4BEuLtGn\",\n",
      "  \"content\": [\n",
      "    {\n",
      "      \"text\": {\n",
      "        \"annotations\": [],\n",
      "        \"value\": \"Hello! How can I assist you today?\"\n",
      "      },\n",
      "      \"type\": \"text\"\n",
      "    }\n",
      "  ],\n",
      "  \"created_at\": \"1702018073\",\n",
      "  \"file_ids\": [],\n",
      "  \"metadata\": \"{}\",\n",
      "  \"object\": \"thread.message\",\n",
      "  \"role\": \"assistant\",\n",
      "  \"run_id\": \"run_Y0hFSlf96zIu1tIRXxupPXCY\",\n",
      "  \"thread_id\": \"thread_1nr34IXRHNQOipkQODjmrIUN\"\n",
      "}\n",
      "{\n",
      "  \"id\": \"msg_yKl0nWEuokUUIBmkZyyYFfzp\",\n",
      "  \"assistant_id\": null,\n",
      "  \"content\": [\n",
      "    {\n",
      "      \"text\": {\n",
      "        \"annotations\": [],\n",
      "        \"value\": \"Hi Assistant!\"\n",
      "      },\n",
      "      \"type\": \"text\"\n",
      "    }\n",
      "  ],\n",
      "  \"created_at\": \"1702018060\",\n",
      "  \"file_ids\": [],\n",
      "  \"metadata\": \"{}\",\n",
      "  \"object\": \"thread.message\",\n",
      "  \"role\": \"user\",\n",
      "  \"run_id\": null,\n",
      "  \"thread_id\": \"thread_1nr34IXRHNQOipkQODjmrIUN\"\n",
      "}\n"
     ]
    }
   ],
   "source": [
    "thread_messages = client.beta.threads.messages.list(thread.id)\n",
    "\n",
    "for index in range(len(thread_messages.data)):\n",
    "    pretty_print(thread_messages.data[index])"
   ]
  },
  {
   "cell_type": "markdown",
   "metadata": {},
   "source": [
    "### Utils: Pretty Print Current Thread Content\n",
    "\n"
   ]
  },
  {
   "cell_type": "code",
   "execution_count": 16,
   "metadata": {},
   "outputs": [
    {
     "name": "stdout",
     "output_type": "stream",
     "text": [
      "User: \"Hi Assistant!\"\n",
      "Assistant: \"Hello! How can I assist you today?\"\n",
      "User: \"How's the weather in Manila today?\"\n",
      "Assistant: \"The weather in Manila today is 19°C.\"\n",
      "\n"
     ]
    }
   ],
   "source": [
    "print(pretty_print_thread(thread_messages))"
   ]
  },
  {
   "cell_type": "markdown",
   "metadata": {},
   "source": [
    "# Scenario 3: A user message require the Assistant to use multiple 'tools'."
   ]
  },
  {
   "cell_type": "markdown",
   "metadata": {},
   "source": [
    "## Step 11: Create New Message\n",
    "\n",
    "User message: \"How's the weather and traffic condition in Cebu today?\""
   ]
  },
  {
   "cell_type": "code",
   "execution_count": 17,
   "metadata": {},
   "outputs": [
    {
     "name": "stdout",
     "output_type": "stream",
     "text": [
      "{\n",
      "  \"id\": \"msg_hQPfBdODrGEDKOh0WKZrPx13\",\n",
      "  \"assistant_id\": null,\n",
      "  \"content\": [\n",
      "    {\n",
      "      \"text\": {\n",
      "        \"annotations\": [],\n",
      "        \"value\": \"How's the weather and traffic condition in Cebu today?\"\n",
      "      },\n",
      "      \"type\": \"text\"\n",
      "    }\n",
      "  ],\n",
      "  \"created_at\": \"1702018871\",\n",
      "  \"file_ids\": [],\n",
      "  \"metadata\": \"{}\",\n",
      "  \"object\": \"thread.message\",\n",
      "  \"role\": \"user\",\n",
      "  \"run_id\": null,\n",
      "  \"thread_id\": \"thread_1nr34IXRHNQOipkQODjmrIUN\"\n",
      "}\n"
     ]
    }
   ],
   "source": [
    "message = client.beta.threads.messages.create(\n",
    "    thread_id=thread.id,\n",
    "    role=\"user\",\n",
    "    content=\"How's the weather and traffic condition in Cebu today?\"\n",
    ")\n",
    "pretty_print(message)"
   ]
  },
  {
   "cell_type": "markdown",
   "metadata": {},
   "source": [
    "### Utils: Display Existing Messages in Thread ID"
   ]
  },
  {
   "cell_type": "code",
   "execution_count": 18,
   "metadata": {},
   "outputs": [
    {
     "name": "stdout",
     "output_type": "stream",
     "text": [
      "{\n",
      "  \"id\": \"msg_hQPfBdODrGEDKOh0WKZrPx13\",\n",
      "  \"assistant_id\": null,\n",
      "  \"content\": [\n",
      "    {\n",
      "      \"text\": {\n",
      "        \"annotations\": [],\n",
      "        \"value\": \"How's the weather and traffic condition in Cebu today?\"\n",
      "      },\n",
      "      \"type\": \"text\"\n",
      "    }\n",
      "  ],\n",
      "  \"created_at\": \"1702018871\",\n",
      "  \"file_ids\": [],\n",
      "  \"metadata\": \"{}\",\n",
      "  \"object\": \"thread.message\",\n",
      "  \"role\": \"user\",\n",
      "  \"run_id\": null,\n",
      "  \"thread_id\": \"thread_1nr34IXRHNQOipkQODjmrIUN\"\n",
      "}\n",
      "{\n",
      "  \"id\": \"msg_UIFj75kmx2ULBG0DLEu0ySCV\",\n",
      "  \"assistant_id\": \"asst_GM37mvTmfH0zWAWe4BEuLtGn\",\n",
      "  \"content\": [\n",
      "    {\n",
      "      \"text\": {\n",
      "        \"annotations\": [],\n",
      "        \"value\": \"The weather in Manila today is 19\\u00b0C.\"\n",
      "      },\n",
      "      \"type\": \"text\"\n",
      "    }\n",
      "  ],\n",
      "  \"created_at\": \"1702018122\",\n",
      "  \"file_ids\": [],\n",
      "  \"metadata\": \"{}\",\n",
      "  \"object\": \"thread.message\",\n",
      "  \"role\": \"assistant\",\n",
      "  \"run_id\": \"run_EtEZoN5CF0vkonwUFDvqEWob\",\n",
      "  \"thread_id\": \"thread_1nr34IXRHNQOipkQODjmrIUN\"\n",
      "}\n",
      "{\n",
      "  \"id\": \"msg_TnEeySsXrcgEVqZkQzCVDPC8\",\n",
      "  \"assistant_id\": null,\n",
      "  \"content\": [\n",
      "    {\n",
      "      \"text\": {\n",
      "        \"annotations\": [],\n",
      "        \"value\": \"How's the weather in Manila today?\"\n",
      "      },\n",
      "      \"type\": \"text\"\n",
      "    }\n",
      "  ],\n",
      "  \"created_at\": \"1702018090\",\n",
      "  \"file_ids\": [],\n",
      "  \"metadata\": \"{}\",\n",
      "  \"object\": \"thread.message\",\n",
      "  \"role\": \"user\",\n",
      "  \"run_id\": null,\n",
      "  \"thread_id\": \"thread_1nr34IXRHNQOipkQODjmrIUN\"\n",
      "}\n",
      "{\n",
      "  \"id\": \"msg_xxHLiMEdSREOSUesvkRCiuFo\",\n",
      "  \"assistant_id\": \"asst_GM37mvTmfH0zWAWe4BEuLtGn\",\n",
      "  \"content\": [\n",
      "    {\n",
      "      \"text\": {\n",
      "        \"annotations\": [],\n",
      "        \"value\": \"Hello! How can I assist you today?\"\n",
      "      },\n",
      "      \"type\": \"text\"\n",
      "    }\n",
      "  ],\n",
      "  \"created_at\": \"1702018073\",\n",
      "  \"file_ids\": [],\n",
      "  \"metadata\": \"{}\",\n",
      "  \"object\": \"thread.message\",\n",
      "  \"role\": \"assistant\",\n",
      "  \"run_id\": \"run_Y0hFSlf96zIu1tIRXxupPXCY\",\n",
      "  \"thread_id\": \"thread_1nr34IXRHNQOipkQODjmrIUN\"\n",
      "}\n",
      "{\n",
      "  \"id\": \"msg_yKl0nWEuokUUIBmkZyyYFfzp\",\n",
      "  \"assistant_id\": null,\n",
      "  \"content\": [\n",
      "    {\n",
      "      \"text\": {\n",
      "        \"annotations\": [],\n",
      "        \"value\": \"Hi Assistant!\"\n",
      "      },\n",
      "      \"type\": \"text\"\n",
      "    }\n",
      "  ],\n",
      "  \"created_at\": \"1702018060\",\n",
      "  \"file_ids\": [],\n",
      "  \"metadata\": \"{}\",\n",
      "  \"object\": \"thread.message\",\n",
      "  \"role\": \"user\",\n",
      "  \"run_id\": null,\n",
      "  \"thread_id\": \"thread_1nr34IXRHNQOipkQODjmrIUN\"\n",
      "}\n"
     ]
    }
   ],
   "source": [
    "thread_messages = client.beta.threads.messages.list(thread.id)\n",
    "\n",
    "for index in range(len(thread_messages.data)):\n",
    "    pretty_print(thread_messages.data[index])"
   ]
  },
  {
   "cell_type": "markdown",
   "metadata": {},
   "source": [
    "## Step 12: Create Run"
   ]
  },
  {
   "cell_type": "code",
   "execution_count": 19,
   "metadata": {},
   "outputs": [],
   "source": [
    "run = client.beta.threads.runs.create(\n",
    "  thread_id=thread.id,\n",
    "  assistant_id=assistant.id  \n",
    ")"
   ]
  },
  {
   "cell_type": "markdown",
   "metadata": {},
   "source": [
    "## Step 13: Wait for Run to finish then View\n",
    "\n",
    "Note that the value of run.required_action indicates that the assistant decided to use 2 tools: \n",
    "- \"getCurrentWeather\" \n",
    "- \"getCurrentTraffic\". \n",
    "\n",
    "The arguments to use with these tools/function calls has been provided as well."
   ]
  },
  {
   "cell_type": "code",
   "execution_count": 20,
   "metadata": {},
   "outputs": [
    {
     "name": "stdout",
     "output_type": "stream",
     "text": [
      "{\n",
      "  \"id\": \"run_KpXw8jkgyubwYwa1Tpjw2KVt\",\n",
      "  \"assistant_id\": \"asst_GM37mvTmfH0zWAWe4BEuLtGn\",\n",
      "  \"cancelled_at\": null,\n",
      "  \"completed_at\": null,\n",
      "  \"created_at\": \"1702018899\",\n",
      "  \"expires_at\": \"1702019499\",\n",
      "  \"failed_at\": null,\n",
      "  \"file_ids\": [],\n",
      "  \"instructions\": \"You are a friendly assistant.\",\n",
      "  \"last_error\": null,\n",
      "  \"metadata\": \"{}\",\n",
      "  \"model\": \"gpt-3.5-turbo-1106\",\n",
      "  \"object\": \"thread.run\",\n",
      "  \"required_action\": {\n",
      "    \"submit_tool_outputs\": {\n",
      "      \"tool_calls\": [\n",
      "        {\n",
      "          \"id\": \"call_iaAiy3aq57J9LIJQEQsvVEt1\",\n",
      "          \"function\": {\n",
      "            \"arguments\": \"{'location': 'Cebu', 'unit': 'c'}\",\n",
      "            \"name\": \"getCurrentWeather\"\n",
      "          },\n",
      "          \"type\": \"function\"\n",
      "        },\n",
      "        {\n",
      "          \"id\": \"call_ylkyAiSrLmts6Y7iihaNXKBO\",\n",
      "          \"function\": {\n",
      "            \"arguments\": \"{'location': 'Cebu'}\",\n",
      "            \"name\": \"getCurrentTraffic\"\n",
      "          },\n",
      "          \"type\": \"function\"\n",
      "        }\n",
      "      ]\n",
      "    },\n",
      "    \"type\": \"submit_tool_outputs\"\n",
      "  },\n",
      "  \"started_at\": \"1702018899\",\n",
      "  \"status\": \"requires_action\",\n",
      "  \"thread_id\": \"thread_1nr34IXRHNQOipkQODjmrIUN\",\n",
      "  \"tools\": [\n",
      "    {\n",
      "      \"function\": {\n",
      "        \"name\": \"getCurrentWeather\",\n",
      "        \"parameters\": \"{'type': 'object', 'properties': {'location': {'type': 'string', 'description': 'The city and state e.g. San Francisco, CA'}, 'unit': {'type': 'string', 'enum': ['c', 'f']}}, 'required': ['location']}\",\n",
      "        \"description\": \"Get the weather in location\"\n",
      "      },\n",
      "      \"type\": \"function\"\n",
      "    },\n",
      "    {\n",
      "      \"function\": {\n",
      "        \"name\": \"getCurrentTraffic\",\n",
      "        \"parameters\": \"{'type': 'object', 'properties': {'location': {'type': 'string', 'description': 'The city and state e.g. San Francisco, CA'}}, 'required': ['location']}\",\n",
      "        \"description\": \"Get the current traffic in location\"\n",
      "      },\n",
      "      \"type\": \"function\"\n",
      "    },\n",
      "    {\n",
      "      \"type\": \"code_interpreter\"\n",
      "    }\n",
      "  ]\n",
      "}\n"
     ]
    }
   ],
   "source": [
    "import time\n",
    "\n",
    "def wait_on_run(run, thread):\n",
    "    while run.status == \"queued\" or run.status == \"in_progress\":\n",
    "        run = client.beta.threads.runs.retrieve(\n",
    "            thread_id=thread.id,\n",
    "            run_id=run.id,\n",
    "        )\n",
    "        time.sleep(0.5)\n",
    "    return run\n",
    "\n",
    "run = wait_on_run(run, thread)\n",
    "pretty_print(run)"
   ]
  },
  {
   "cell_type": "markdown",
   "metadata": {},
   "source": [
    "# If status = requires_action:\n",
    "\n",
    "### Initialize tool_call as var "
   ]
  },
  {
   "cell_type": "code",
   "execution_count": 21,
   "metadata": {},
   "outputs": [
    {
     "name": "stdout",
     "output_type": "stream",
     "text": [
      "[\n",
      "  {\n",
      "    \"id\": \"call_iaAiy3aq57J9LIJQEQsvVEt1\",\n",
      "    \"function\": {\n",
      "      \"arguments\": \"{'location': 'Cebu', 'unit': 'c'}\",\n",
      "      \"name\": \"getCurrentWeather\"\n",
      "    },\n",
      "    \"type\": \"function\"\n",
      "  },\n",
      "  {\n",
      "    \"id\": \"call_ylkyAiSrLmts6Y7iihaNXKBO\",\n",
      "    \"function\": {\n",
      "      \"arguments\": \"{'location': 'Cebu'}\",\n",
      "      \"name\": \"getCurrentTraffic\"\n",
      "    },\n",
      "    \"type\": \"function\"\n",
      "  }\n",
      "]\n"
     ]
    }
   ],
   "source": [
    "tool_call = run.required_action.submit_tool_outputs.tool_calls\n",
    "pretty_print(tool_call)"
   ]
  },
  {
   "cell_type": "markdown",
   "metadata": {},
   "source": [
    "## Step 14: Update Run with Tool Output\n",
    "\n",
    "We have simulated the following output for the respective function calls:\n",
    "\n",
    "- \"getCurrentWeather\" - output: '28c' \n",
    "- \"getCurrentTraffic\" - output: 'carmageddon levels per the usual'\n",
    "\n"
   ]
  },
  {
   "cell_type": "code",
   "execution_count": 22,
   "metadata": {},
   "outputs": [
    {
     "name": "stdout",
     "output_type": "stream",
     "text": [
      "{\n",
      "  \"id\": \"run_KpXw8jkgyubwYwa1Tpjw2KVt\",\n",
      "  \"assistant_id\": \"asst_GM37mvTmfH0zWAWe4BEuLtGn\",\n",
      "  \"cancelled_at\": null,\n",
      "  \"completed_at\": null,\n",
      "  \"created_at\": \"1702018899\",\n",
      "  \"expires_at\": \"1702019499\",\n",
      "  \"failed_at\": null,\n",
      "  \"file_ids\": [],\n",
      "  \"instructions\": \"You are a friendly assistant.\",\n",
      "  \"last_error\": null,\n",
      "  \"metadata\": \"{}\",\n",
      "  \"model\": \"gpt-3.5-turbo-1106\",\n",
      "  \"object\": \"thread.run\",\n",
      "  \"required_action\": null,\n",
      "  \"started_at\": \"1702018899\",\n",
      "  \"status\": \"queued\",\n",
      "  \"thread_id\": \"thread_1nr34IXRHNQOipkQODjmrIUN\",\n",
      "  \"tools\": [\n",
      "    {\n",
      "      \"function\": {\n",
      "        \"name\": \"getCurrentWeather\",\n",
      "        \"parameters\": \"{'type': 'object', 'properties': {'location': {'type': 'string', 'description': 'The city and state e.g. San Francisco, CA'}, 'unit': {'type': 'string', 'enum': ['c', 'f']}}, 'required': ['location']}\",\n",
      "        \"description\": \"Get the weather in location\"\n",
      "      },\n",
      "      \"type\": \"function\"\n",
      "    },\n",
      "    {\n",
      "      \"function\": {\n",
      "        \"name\": \"getCurrentTraffic\",\n",
      "        \"parameters\": \"{'type': 'object', 'properties': {'location': {'type': 'string', 'description': 'The city and state e.g. San Francisco, CA'}}, 'required': ['location']}\",\n",
      "        \"description\": \"Get the current traffic in location\"\n",
      "      },\n",
      "      \"type\": \"function\"\n",
      "    },\n",
      "    {\n",
      "      \"type\": \"code_interpreter\"\n",
      "    }\n",
      "  ]\n",
      "}\n"
     ]
    }
   ],
   "source": [
    "run = client.beta.threads.runs.submit_tool_outputs(\n",
    "  thread_id=thread.id,\n",
    "  run_id=run.id,\n",
    "  tool_outputs=[\n",
    "    {\n",
    "      \"tool_call_id\": tool_call[0].id,\n",
    "      \"output\": \"28C\"\n",
    "    },\n",
    "    {\n",
    "      \"tool_call_id\": tool_call[1].id,\n",
    "      \"output\": \"carmageddon levels per the usual\"\n",
    "    }\n",
    "\n",
    "  ]\n",
    ")\n",
    "pretty_print(run)"
   ]
  },
  {
   "cell_type": "markdown",
   "metadata": {},
   "source": [
    "## Step 15: Display Content of Thread again"
   ]
  },
  {
   "cell_type": "code",
   "execution_count": 24,
   "metadata": {},
   "outputs": [
    {
     "name": "stdout",
     "output_type": "stream",
     "text": [
      "{\n",
      "  \"id\": \"msg_4RXAE87pt1wt5LhWspFJkdfx\",\n",
      "  \"assistant_id\": \"asst_GM37mvTmfH0zWAWe4BEuLtGn\",\n",
      "  \"content\": [\n",
      "    {\n",
      "      \"text\": {\n",
      "        \"annotations\": [],\n",
      "        \"value\": \"The weather in Cebu today is 28\\u00b0C, and the traffic condition is described as \\\"carmageddon levels per the usual.\\\"\"\n",
      "      },\n",
      "      \"type\": \"text\"\n",
      "    }\n",
      "  ],\n",
      "  \"created_at\": \"1702018935\",\n",
      "  \"file_ids\": [],\n",
      "  \"metadata\": \"{}\",\n",
      "  \"object\": \"thread.message\",\n",
      "  \"role\": \"assistant\",\n",
      "  \"run_id\": \"run_KpXw8jkgyubwYwa1Tpjw2KVt\",\n",
      "  \"thread_id\": \"thread_1nr34IXRHNQOipkQODjmrIUN\"\n",
      "}\n",
      "{\n",
      "  \"id\": \"msg_hQPfBdODrGEDKOh0WKZrPx13\",\n",
      "  \"assistant_id\": null,\n",
      "  \"content\": [\n",
      "    {\n",
      "      \"text\": {\n",
      "        \"annotations\": [],\n",
      "        \"value\": \"How's the weather and traffic condition in Cebu today?\"\n",
      "      },\n",
      "      \"type\": \"text\"\n",
      "    }\n",
      "  ],\n",
      "  \"created_at\": \"1702018871\",\n",
      "  \"file_ids\": [],\n",
      "  \"metadata\": \"{}\",\n",
      "  \"object\": \"thread.message\",\n",
      "  \"role\": \"user\",\n",
      "  \"run_id\": null,\n",
      "  \"thread_id\": \"thread_1nr34IXRHNQOipkQODjmrIUN\"\n",
      "}\n",
      "{\n",
      "  \"id\": \"msg_UIFj75kmx2ULBG0DLEu0ySCV\",\n",
      "  \"assistant_id\": \"asst_GM37mvTmfH0zWAWe4BEuLtGn\",\n",
      "  \"content\": [\n",
      "    {\n",
      "      \"text\": {\n",
      "        \"annotations\": [],\n",
      "        \"value\": \"The weather in Manila today is 19\\u00b0C.\"\n",
      "      },\n",
      "      \"type\": \"text\"\n",
      "    }\n",
      "  ],\n",
      "  \"created_at\": \"1702018122\",\n",
      "  \"file_ids\": [],\n",
      "  \"metadata\": \"{}\",\n",
      "  \"object\": \"thread.message\",\n",
      "  \"role\": \"assistant\",\n",
      "  \"run_id\": \"run_EtEZoN5CF0vkonwUFDvqEWob\",\n",
      "  \"thread_id\": \"thread_1nr34IXRHNQOipkQODjmrIUN\"\n",
      "}\n",
      "{\n",
      "  \"id\": \"msg_TnEeySsXrcgEVqZkQzCVDPC8\",\n",
      "  \"assistant_id\": null,\n",
      "  \"content\": [\n",
      "    {\n",
      "      \"text\": {\n",
      "        \"annotations\": [],\n",
      "        \"value\": \"How's the weather in Manila today?\"\n",
      "      },\n",
      "      \"type\": \"text\"\n",
      "    }\n",
      "  ],\n",
      "  \"created_at\": \"1702018090\",\n",
      "  \"file_ids\": [],\n",
      "  \"metadata\": \"{}\",\n",
      "  \"object\": \"thread.message\",\n",
      "  \"role\": \"user\",\n",
      "  \"run_id\": null,\n",
      "  \"thread_id\": \"thread_1nr34IXRHNQOipkQODjmrIUN\"\n",
      "}\n",
      "{\n",
      "  \"id\": \"msg_xxHLiMEdSREOSUesvkRCiuFo\",\n",
      "  \"assistant_id\": \"asst_GM37mvTmfH0zWAWe4BEuLtGn\",\n",
      "  \"content\": [\n",
      "    {\n",
      "      \"text\": {\n",
      "        \"annotations\": [],\n",
      "        \"value\": \"Hello! How can I assist you today?\"\n",
      "      },\n",
      "      \"type\": \"text\"\n",
      "    }\n",
      "  ],\n",
      "  \"created_at\": \"1702018073\",\n",
      "  \"file_ids\": [],\n",
      "  \"metadata\": \"{}\",\n",
      "  \"object\": \"thread.message\",\n",
      "  \"role\": \"assistant\",\n",
      "  \"run_id\": \"run_Y0hFSlf96zIu1tIRXxupPXCY\",\n",
      "  \"thread_id\": \"thread_1nr34IXRHNQOipkQODjmrIUN\"\n",
      "}\n",
      "{\n",
      "  \"id\": \"msg_yKl0nWEuokUUIBmkZyyYFfzp\",\n",
      "  \"assistant_id\": null,\n",
      "  \"content\": [\n",
      "    {\n",
      "      \"text\": {\n",
      "        \"annotations\": [],\n",
      "        \"value\": \"Hi Assistant!\"\n",
      "      },\n",
      "      \"type\": \"text\"\n",
      "    }\n",
      "  ],\n",
      "  \"created_at\": \"1702018060\",\n",
      "  \"file_ids\": [],\n",
      "  \"metadata\": \"{}\",\n",
      "  \"object\": \"thread.message\",\n",
      "  \"role\": \"user\",\n",
      "  \"run_id\": null,\n",
      "  \"thread_id\": \"thread_1nr34IXRHNQOipkQODjmrIUN\"\n",
      "}\n"
     ]
    }
   ],
   "source": [
    "thread_messages = client.beta.threads.messages.list(thread.id)\n",
    "\n",
    "for index in range(len(thread_messages.data)):\n",
    "    pretty_print(thread_messages.data[index])"
   ]
  },
  {
   "cell_type": "markdown",
   "metadata": {},
   "source": [
    "### Utils: Pretty Print Current Thread Content"
   ]
  },
  {
   "cell_type": "code",
   "execution_count": 25,
   "metadata": {},
   "outputs": [
    {
     "name": "stdout",
     "output_type": "stream",
     "text": [
      "User: \"Hi Assistant!\"\n",
      "Assistant: \"Hello! How can I assist you today?\"\n",
      "User: \"How's the weather in Manila today?\"\n",
      "Assistant: \"The weather in Manila today is 19°C.\"\n",
      "User: \"How's the weather and traffic condition in Cebu today?\"\n",
      "Assistant: \"The weather in Cebu today is 28°C, and the traffic condition is described as \"carmageddon levels per the usual.\"\"\n",
      "\n"
     ]
    }
   ],
   "source": [
    "print(pretty_print_thread(thread_messages))"
   ]
  },
  {
   "cell_type": "markdown",
   "metadata": {},
   "source": [
    "### Utils: View Run Steps\n",
    "\n",
    "Run steps describes the 'steps' done in each Run. \n",
    "\n",
    "I find the Run Steps information most useful when using the 'code interpreter' tool. The intermediate steps done by the Assistant e.g. what python code it run to get to the final output is displayed here."
   ]
  },
  {
   "cell_type": "code",
   "execution_count": 27,
   "metadata": {},
   "outputs": [
    {
     "name": "stdout",
     "output_type": "stream",
     "text": [
      "{\n",
      "  \"tool_calls\": [\n",
      "    {\n",
      "      \"id\": \"call_iaAiy3aq57J9LIJQEQsvVEt1\",\n",
      "      \"function\": {\n",
      "        \"arguments\": \"{'location': 'Cebu', 'unit': 'c'}\",\n",
      "        \"name\": \"getCurrentWeather\",\n",
      "        \"output\": \"28C\"\n",
      "      },\n",
      "      \"type\": \"function\"\n",
      "    },\n",
      "    {\n",
      "      \"id\": \"call_ylkyAiSrLmts6Y7iihaNXKBO\",\n",
      "      \"function\": {\n",
      "        \"arguments\": \"{'location': 'Cebu'}\",\n",
      "        \"name\": \"getCurrentTraffic\",\n",
      "        \"output\": \"carmageddon levels per the usual\"\n",
      "      },\n",
      "      \"type\": \"function\"\n",
      "    }\n",
      "  ],\n",
      "  \"type\": \"tool_calls\"\n",
      "}\n",
      "null\n",
      "{\n",
      "  \"message_creation\": {\n",
      "    \"message_id\": \"msg_4RXAE87pt1wt5LhWspFJkdfx\"\n",
      "  },\n",
      "  \"type\": \"message_creation\"\n",
      "}\n",
      "null\n"
     ]
    }
   ],
   "source": [
    "run_steps = client.beta.threads.runs.steps.list(\n",
    "    thread_id=thread.id, run_id=run.id, order=\"asc\"\n",
    ")\n",
    "\n",
    "for step in run_steps.data:\n",
    "    step_details = step.step_details\n",
    "    print(json.dumps(pretty_print(step_details), indent=4))"
   ]
  }
 ],
 "metadata": {
  "kernelspec": {
   "display_name": ".venv_use_cases",
   "language": "python",
   "name": ".venv_use_cases"
  },
  "language_info": {
   "codemirror_mode": {
    "name": "ipython",
    "version": 3
   },
   "file_extension": ".py",
   "mimetype": "text/x-python",
   "name": "python",
   "nbconvert_exporter": "python",
   "pygments_lexer": "ipython3",
   "version": "3.10.12"
  }
 },
 "nbformat": 4,
 "nbformat_minor": 2
}
